{
 "cells": [
  {
   "cell_type": "code",
   "execution_count": 26,
   "id": "innocent-framework",
   "metadata": {},
   "outputs": [],
   "source": [
    "\n",
    "# Import the pathlib and csv library\n",
    "import pathlib\n",
    "from pathlib import Path\n",
    "import csv\n",
    "import datetime\n",
    "\n",
    "# Set the file path\n",
    "csvpath = Path('../Pybank/Resources/budget_data.csv') \n",
    "\n"
   ]
  },
  {
   "cell_type": "code",
   "execution_count": 114,
   "id": "advised-florence",
   "metadata": {},
   "outputs": [
    {
     "name": "stdout",
     "output_type": "stream",
     "text": [
      "<class '_io.TextIOWrapper'>\n",
      "<class '_csv.reader'>\n",
      "['Date', 'Profit/Losses'] <---- HEADER\n"
     ]
    },
    {
     "ename": "ValueError",
     "evalue": "I/O operation on closed file.",
     "output_type": "error",
     "traceback": [
      "\u001b[0;31m---------------------------------------------------------------------------\u001b[0m",
      "\u001b[0;31mValueError\u001b[0m                                Traceback (most recent call last)",
      "\u001b[0;32m<ipython-input-114-2c5e791a0fba>\u001b[0m in \u001b[0;36m<module>\u001b[0;34m\u001b[0m\n\u001b[1;32m     29\u001b[0m     \u001b[0;31m#Read each row of data after the header\u001b[0m\u001b[0;34m\u001b[0m\u001b[0;34m\u001b[0m\u001b[0;34m\u001b[0m\u001b[0m\n\u001b[1;32m     30\u001b[0m \u001b[0;34m\u001b[0m\u001b[0m\n\u001b[0;32m---> 31\u001b[0;31m \u001b[0;32mfor\u001b[0m \u001b[0mrow\u001b[0m \u001b[0;32min\u001b[0m \u001b[0mcsvreader\u001b[0m\u001b[0;34m:\u001b[0m\u001b[0;34m\u001b[0m\u001b[0;34m\u001b[0m\u001b[0m\n\u001b[0m\u001b[1;32m     32\u001b[0m \u001b[0;34m\u001b[0m\u001b[0m\n\u001b[1;32m     33\u001b[0m  \u001b[0;31m#Add the total months and total profits to the categories\u001b[0m\u001b[0;34m\u001b[0m\u001b[0;34m\u001b[0m\u001b[0;34m\u001b[0m\u001b[0m\n",
      "\u001b[0;31mValueError\u001b[0m: I/O operation on closed file."
     ]
    }
   ],
   "source": [
    "# Initialize variables\n",
    "Total_Months  =  []\n",
    "Total_Profit  = []\n",
    "Monthly_Profit_Change = []\n",
    "\n",
    "# Initialize line_num variable\n",
    "line_num = 0\n",
    "\n",
    "\n",
    "# Open the input path as a file object\n",
    "with open(csvpath,'r') as csvfile:\n",
    "    \n",
    "  # Print the datatype of the file object\n",
    "    print(type(csvfile))\n",
    "    \n",
    "   # Pass in the csv file to the csv.reader() function\n",
    "    # (with ',' as the delmiter/separator) and return the csvreader object \n",
    "    csvreader = csv.reader(csvfile, delimiter=',')\n",
    "    # Print the datatype of the csvreader\n",
    "    print(type(csvreader))\n",
    "    \n",
    "     # Go to the next row from the start of the file\n",
    "    # (which is often the first row/header) and iterate line_num by 1\n",
    "    header = next(csvreader)\n",
    "    line_num += 1\n",
    "    # Print the header\n",
    "    print(f\"{header} <---- HEADER\")\n",
    "    \n",
    "    #Read each row of data after the header\n",
    "\n",
    "for row in csvreader:\n",
    "        \n",
    " #Add the total months and total profits to the categories\n",
    "    Total_Months.append(row[0])\n",
    "    Total_Profits.append(int(row[1]))\n",
    "            \n",
    " #Find the montly change in profits for the range -loop-\n",
    "for i in range(len(Total_Profit)-1):\n",
    "                \n",
    "            #Add the profit montlhy change     \n",
    "             monthly_profit_change.append(total_profit[i+1]-total_profit[i])\n",
    "                \n",
    "      #Find the greatest increase and decrease in profits\n",
    "max_increase_value = max(Monthly_Profit_Change)\n",
    "max_decrease_value = min(Monthly_Profit_Change)  \n",
    "max_index = Montlhy_Profit_Change.index(max_increase_value) + 1\n",
    "min_index = Montlhy_Profit_Change.index(max_decrease_value) + 1\n",
    "\n",
    "\n",
    "#Print\n",
    "\n",
    "max_month = Total_Months[max_index]\n",
    "min_month = Total_Months[min_index]\n",
    "\n",
    "with open('output.txt','w') as op:\n",
    "    print(\"Financial Analysis\")\n",
    "    print(f\"Total_Months: {len(Total_Months)}\")\n",
    "    print(f\"Total: ${sum(Total_Profit)}\")\n",
    "    print(f\"Average Cahnge: {round(sum(montly_profit_change)/len(monthly_profit_change),2)}\")\n",
    "    print(f\"Greatest increase in Profits: {max_month} ($(max_increase_value))\")\n",
    "    print(f\"Greatest decrease in Profits: {min_month} ($(max_decrease_value))\")\n",
    "          \n",
    "        \n",
    "    "
   ]
  },
  {
   "cell_type": "code",
   "execution_count": null,
   "id": "close-transsexual",
   "metadata": {},
   "outputs": [],
   "source": []
  },
  {
   "cell_type": "code",
   "execution_count": null,
   "id": "under-conspiracy",
   "metadata": {},
   "outputs": [],
   "source": []
  }
 ],
 "metadata": {
  "kernelspec": {
   "display_name": "Python 3",
   "language": "python",
   "name": "python3"
  },
  "language_info": {
   "codemirror_mode": {
    "name": "ipython",
    "version": 3
   },
   "file_extension": ".py",
   "mimetype": "text/x-python",
   "name": "python",
   "nbconvert_exporter": "python",
   "pygments_lexer": "ipython3",
   "version": "3.8.5"
  }
 },
 "nbformat": 4,
 "nbformat_minor": 5
}
